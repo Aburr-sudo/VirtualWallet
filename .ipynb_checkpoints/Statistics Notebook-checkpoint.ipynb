{
 "cells": [
  {
   "cell_type": "code",
   "execution_count": 1,
   "metadata": {},
   "outputs": [],
   "source": [
    "\n",
    "\"\"\"\n",
    "@author: AllanBurr\n",
    "IMPORT LIBRARIES\"\"\"\n",
    "import sys\n",
    "import os\n",
    "import numpy as np\n",
    "import pandas as pd\n",
    "import matplotlib.pyplot as plt\n",
    "import seaborn as sns"
   ]
  },
  {
   "cell_type": "code",
   "execution_count": 2,
   "metadata": {},
   "outputs": [],
   "source": [
    "def readInData():\n",
    "    ## Change date of csv to the index of dataframe\n",
    "    #df['Date'] = pd.to_datetime(df['Date'])\n",
    "    #df.set_index('Date', inplace = True)\n",
    "    #df.head()\n",
    "\n",
    "    df = pd.read_csv('outputData.csv')\n",
    "    df.head()\n",
    "\n",
    "    index = df.index\n",
    "    columns = df.columns\n",
    "    values = df.values"
   ]
  },
  {
   "cell_type": "code",
   "execution_count": null,
   "metadata": {},
   "outputs": [],
   "source": [
    "def printFigs():\n",
    "    plot = df.plot('Date', 'Total',  kind = 'line',marker = 'o', title ='Total Spending', legend = False)\n",
    "    fig = plot.get_figure()\n",
    "    fig.savefig(\"figures/TotalSpendingByDate.png\")\n",
    "\n",
    "    plot = df.plot('Date', 'Groceries', kind = 'line',marker = 'o',title ='Grocery Expenses', legend = False)\n",
    "    fig = plot.get_figure()\n",
    "    fig.savefig(\"figures/GroceriesSpending.png\")\n",
    "\n",
    "    plot = df.plot('Date', 'Transport',color='orange', kind = 'bar', title ='transport Expenses', legend = False)\n",
    "    fig = plot.get_figure()\n",
    "    fig.savefig(\"figures/Transport.png\")\n",
    "\n",
    "    plot = df.plot('Date', 'Take_Out', kind = 'bar', color='green', title ='Take Out Expenses', legend = False)\n",
    "    fig = plot.get_figure()\n",
    "    fig.savefig(\"figures/Take_out.png\")\n",
    "\n",
    "    plot = df.plot('Date', 'Medical', kind = 'bar', color='red',title ='Medical Expenses', legend = False)\n",
    "    fig = plot.get_figure()\n",
    "    fig.savefig(\"figures/Medical.png\")\n",
    "\n",
    "\n",
    "    plot = df.plot('Date', 'Entertainment', kind = 'bar', color='yellow',title ='Entertainment Expenses', legend = False)\n",
    "    fig = plot.get_figure()\n",
    "    fig.savefig(\"figures/Entertainment.png\")\n",
    "\n",
    "    plot = df.plot('Date', 'Other', kind = 'bar', color='black',title ='Misc. Expenses', legend = False)\n",
    "    fig = plot.get_figure()\n",
    "    fig.savefig(\"figures/Other.png\")"
   ]
  },
  {
   "cell_type": "code",
   "execution_count": null,
   "metadata": {},
   "outputs": [],
   "source": [
    "def goThru():\n",
    "    a = list(df)\n",
    "    totals = 0\n",
    "    stringText = \"\"\n",
    "    for totals in a[1:9]:        \n",
    "        stringText +=getInfo(totals)\n",
    "    return stringText "
   ]
  },
  {
   "cell_type": "code",
   "execution_count": null,
   "metadata": {},
   "outputs": [],
   "source": [
    "def getInfo(colName):\n",
    "    #To get information from dataframe\n",
    "    stri = \"Begin\"\n",
    "    sum = df[colName].sum()\n",
    "    mean = df[colName].mean()\n",
    "    median = df[colName].median()\n",
    "    maximum= df[colName].max()\n",
    "    sum = round(sum, 2)\n",
    "    mean = round(mean, 2)\n",
    "    median = round(median, 2)\n",
    "    stri = str(\"Total amount spent in the period on \"  + colName+ \": $\" + str(sum))\n",
    "    stri2 = str(\"Average amount spent per day on \"  + colName+ \": $\" + str(mean))\n",
    "    stri3 = str(\"Most spent in a single day on \"  + colName+ \": $\"+ str(maximum))   \n",
    "    stri += \"\\n\"\n",
    "    stri += (stri2)\n",
    "    stri += \"\\n\"\n",
    "    stri += stri3\n",
    "    stri += \"\\n\"\n",
    "    stri += \"\\n\"\n",
    "    stri += \"\\n\"\n",
    "    #print(stri)\n",
    "    return stri"
   ]
  },
  {
   "cell_type": "code",
   "execution_count": null,
   "metadata": {},
   "outputs": [],
   "source": [
    "def printOnce():\n",
    "    aa = df.max()\n",
    "    maximum= df['Total'].max()\n",
    "    minimum = df['Total'].min()\n",
    "    cumulativeMax = df.cummax()\n",
    "    standardDev = df['Total'].std(axis = 0)\n",
    "    standardDev = round(standardDev, 2)\n",
    "    mostSpentInADay = aa['Date']\n",
    "    print(str(maximum) + \" on \" + str(mostSpentInADay))\n",
    "    #aa = df[' Total '].min()\n",
    "    minDate = df.min()\n",
    "    leastInADay = minDate['Date']\n",
    "    print(\"Least spent in a single day: \")\n",
    "    print(str(minimum) + \" on \" + str(leastInADay))\n",
    "    print(\"Total amount of days with no expenses: \")\n",
    "    print(\"Standard deviation of total spending = \" + str(standardDev))"
   ]
  },
  {
   "cell_type": "code",
   "execution_count": null,
   "metadata": {},
   "outputs": [],
   "source": [
    "def getTotalDays():\n",
    "   # numberOfDays = len(df.index)\n",
    "    a = df['Date'].nunique()\n",
    "    return a\n",
    "\n",
    "def getTotalEntries():\n",
    "    numberOfEntries = len(df.index)\n",
    "    return numberOfEntries"
   ]
  },
  {
   "cell_type": "code",
   "execution_count": null,
   "metadata": {},
   "outputs": [],
   "source": [
    "def countValuesInColumn(colName, days):\n",
    "    var = 0\n",
    "    for x in df[colName]:\n",
    "        if x != 0:\n",
    "            var += 1\n",
    "    stringCol = str(var)\n",
    "    print(\"There were \" + stringCol + \" instances of \" + colName)\n",
    "    percent = (var/days)*100\n",
    "    percent = round(percent, 2)\n",
    "    print(\"You had a \" + str(percent) + \"% chance of purchasing \" + colName + \" per day\")"
   ]
  },
  {
   "cell_type": "code",
   "execution_count": null,
   "metadata": {},
   "outputs": [],
   "source": [
    "def WriteToFile():\n",
    "    file1 = open(\"Statistical Results.txt\",\"w\") \n",
    "    firstDay = df['Date'].head(1)\n",
    "    firstDay = firstDay[0]\n",
    "    lastDay =df['Date'].iloc[-1]\n",
    "    #lastDay = lastDay[0]\n",
    "\n",
    "\n",
    "    fileText = \"From \" + str(firstDay) + \" until \" + str(lastDay)+ \"\\n\"\n",
    "    fileText += \"there were \" + str(getTotalDays()) + \" days which purchases were made\\n\"\n",
    "    fileText += goThru()\n",
    "    file1.write(fileText)\n",
    "    file1.close() \n"
   ]
  },
  {
   "cell_type": "code",
   "execution_count": null,
   "metadata": {},
   "outputs": [],
   "source": [
    "def createSeabornGraph():\n",
    "    fig, ax = plt.subplots(figsize = (12,6))    \n",
    "    fig = sns.barplot(x = 'Date', y = 'Total', data = df)\n",
    "    ax.set_ylabel('Total Spent')\n",
    "    ax.set_xlabel('Date')\n",
    "    ax.set_xticklabels(ax.get_xticklabels(), rotation=75)\n",
    "\n",
    "    pic = fig.get_figure()\n",
    "    pic.savefig(\"figures/SeabornTotalByDate.png\")"
   ]
  },
  {
   "cell_type": "code",
   "execution_count": null,
   "metadata": {},
   "outputs": [],
   "source": [
    "def iterateThruByColumn():\n",
    "    days = getTotalDays()\n",
    "    print(\"In a total of \" + str(days)+ \" days\")\n",
    "    a = list(df)\n",
    "    totals = 0\n",
    "    for totals in a[1:8]:\n",
    "        countValuesInColumn(totals, days)"
   ]
  },
  {
   "cell_type": "code",
   "execution_count": null,
   "metadata": {},
   "outputs": [],
   "source": [
    "def graphsWithoutBills():\n",
    "    del df['Bills']\n",
    "    plot = df.plot(x='Date', y=['Groceries', 'Transport', 'Take_Out', 'Medical', 'Entertainment', 'Other'], kind=\"bar\", stacked=True)\n",
    "    fig = plot.get_figure()\n",
    "    fig.savefig(\"figures/Without_Total.png\")\n",
    "    del df['Total'] \n",
    "    plot = df.plot(x='Date', y=['Groceries', 'Transport', 'Take_Out', 'Medical', 'Entertainment', 'Other'], kind=\"line\")\n",
    "    fig = plot.get_figure()\n",
    "    fig.savefig(\"figures/WithoutBills_Rent.png\")"
   ]
  },
  {
   "cell_type": "code",
   "execution_count": null,
   "metadata": {},
   "outputs": [],
   "source": []
  },
  {
   "cell_type": "code",
   "execution_count": null,
   "metadata": {},
   "outputs": [],
   "source": []
  }
 ],
 "metadata": {
  "kernelspec": {
   "display_name": "Python 3",
   "language": "python",
   "name": "python3"
  },
  "language_info": {
   "codemirror_mode": {
    "name": "ipython",
    "version": 3
   },
   "file_extension": ".py",
   "mimetype": "text/x-python",
   "name": "python",
   "nbconvert_exporter": "python",
   "pygments_lexer": "ipython3",
   "version": "3.7.6"
  }
 },
 "nbformat": 4,
 "nbformat_minor": 4
}
