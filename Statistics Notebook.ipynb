{
 "cells": [
  {
   "cell_type": "code",
   "execution_count": 5,
   "metadata": {},
   "outputs": [],
   "source": [
    "## to do:: Add pie chart, break up spending by category\n",
    "\"\"\"\n",
    "@author: AllanBurr\n",
    "IMPORT LIBRARIES\"\"\"\n",
    "import sys\n",
    "import os\n",
    "import numpy as np\n",
    "import pandas as pd\n",
    "import matplotlib.pyplot as plt\n",
    "import random\n",
    "\n",
    "\n"
   ]
  },
  {
   "cell_type": "code",
   "execution_count": null,
   "metadata": {},
   "outputs": [],
   "source": [
    "#  assert libraries exist, otherwise bail"
   ]
  },
  {
   "cell_type": "code",
   "execution_count": 44,
   "metadata": {},
   "outputs": [],
   "source": [
    "def printFigs(df):\n",
    "    plot = df.plot('Date', 'Total',  kind = 'line',marker = 'o', title ='Total Spending', legend = False)\n",
    "    fig = plot.get_figure()\n",
    "    fig.savefig(\"figures/TotalSpendingByDate.png\")\n",
    "    \n",
    "    \n",
    "    plot = df.plot('Date', 'Groceries', kind = 'line',marker = 'o',title ='Grocery Expenses', legend = False)\n",
    "    fig = plot.get_figure()\n",
    "    fig.savefig(\"figures/GroceriesSpending.png\")\n",
    "\n",
    "    plot = df.plot('Date', 'Transport',color='orange', kind = 'line', title ='transport Expenses', legend = False)\n",
    "    fig = plot.get_figure()\n",
    "    fig.savefig(\"figures/Transport.png\")\n",
    "\n",
    "    plot = df.plot('Date', 'Take_Out', kind = 'line', color='green', title ='Take Out Expenses', legend = False)\n",
    "    fig = plot.get_figure()\n",
    "    fig.savefig(\"figures/Take_out.png\")\n",
    "\n",
    "    plot = df.plot('Date', 'Medical', kind = 'line', color='red',title ='Medical Expenses', legend = False)\n",
    "    fig = plot.get_figure()\n",
    "    fig.savefig(\"figures/Medical.png\")\n",
    "\n",
    "\n",
    "    plot = df.plot('Date', 'Entertainment', kind = 'line', color='yellow',title ='Entertainment Expenses', legend = False)\n",
    "    fig = plot.get_figure()\n",
    "    fig.savefig(\"figures/Entertainment.png\")\n",
    "\n",
    "    plot = df.plot('Date', 'Other', kind = 'line', color='black',title ='Misc. Expenses', legend = False)\n",
    "    fig = plot.get_figure()\n",
    "    fig.savefig(\"figures/Other.png\")"
   ]
  },
  {
   "cell_type": "code",
   "execution_count": 3,
   "metadata": {},
   "outputs": [],
   "source": [
    "def goThru(df):\n",
    "    a = list(df)\n",
    "    totals = 0\n",
    "    stringText = \"\"\n",
    "    for totals in a[1:9]:        \n",
    "        stringText +=getInfo(df,totals)\n",
    "    return stringText "
   ]
  },
  {
   "cell_type": "code",
   "execution_count": 4,
   "metadata": {},
   "outputs": [],
   "source": [
    "def getInfo(df, colName):\n",
    "    #To get information from dataframe\n",
    "    stri = \"Begin\"\n",
    "    sum = df[colName].sum()\n",
    "    mean = df[colName].mean()\n",
    "    median = df[colName].median()\n",
    "    maximum= df[colName].max()\n",
    "    sum = round(sum, 2)\n",
    "    mean = round(mean, 2)\n",
    "    median = round(median, 2)\n",
    "    stri = str(\"Total amount spent in the period on \"  + colName+ \": $\" + str(sum))\n",
    "    stri2 = str(\"Average amount spent per day on \"  + colName+ \": $\" + str(mean))\n",
    "    stri3 = str(\"Most spent in a single day on \"  + colName+ \": $\"+ str(maximum))   \n",
    "    stri += \"\\n\"\n",
    "    stri += (stri2)\n",
    "    stri += \"\\n\"\n",
    "    stri += stri3\n",
    "    stri += \"\\n\"\n",
    "    stri += \"\\n\"\n",
    "    stri += \"\\n\"\n",
    "    #print(stri)\n",
    "    return stri"
   ]
  },
  {
   "cell_type": "code",
   "execution_count": 21,
   "metadata": {},
   "outputs": [],
   "source": [
    "def printOnce(df):\n",
    "    aa = df.max()\n",
    "    maximum= df['Total'].max()\n",
    "    minimum = df['Total'].min()\n",
    "    cumulativeMax = df.cummax()\n",
    "    standardDev = df['Total'].std(axis = 0)\n",
    "    standardDev = round(standardDev, 2)\n",
    "    mostSpentInADay = aa['Date']\n",
    "    print(str(maximum) + \" on \" + str(mostSpentInADay))\n",
    "    #aa = df[' Total '].min()\n",
    "    minDate = df.min()\n",
    "    leastInADay = minDate['Date']\n",
    "    print(\"Least spent in a single day: \")\n",
    "    print(str(minimum) + \" on \" + str(leastInADay))\n",
    "    print(\"Total amount of days with no expenses: \")\n",
    "    print(\"Standard deviation of total spending = \" + str(standardDev))"
   ]
  },
  {
   "cell_type": "code",
   "execution_count": 5,
   "metadata": {},
   "outputs": [],
   "source": [
    "def getTotalDays(df):\n",
    "   # numberOfDays = len(df.index)\n",
    "    a = df['Date'].nunique()\n",
    "    return a\n",
    "\n",
    "def getTotalEntries(df):\n",
    "    numberOfEntries = len(df.index)\n",
    "    return numberOfEntries"
   ]
  },
  {
   "cell_type": "code",
   "execution_count": 6,
   "metadata": {},
   "outputs": [],
   "source": [
    "def countValuesInColumn(colName, days):\n",
    "    var = 0\n",
    "    text = \"\"\n",
    "    for x in df[colName]:\n",
    "        if x != 0:\n",
    "            var += 1\n",
    "    stringCol = str(var)\n",
    "    text += (\"There were \" + stringCol + \" instances of \" + colName)\n",
    "    text += '\\n'\n",
    "    percent = (var/days)*100\n",
    "    percent = round(percent, 2)\n",
    "    text += (\"You had a \" + str(percent) + \"% chance of purchasing \" + colName + \" per day\")\n",
    "    text += '\\n'\n",
    "    return text"
   ]
  },
  {
   "cell_type": "code",
   "execution_count": 7,
   "metadata": {},
   "outputs": [],
   "source": [
    "def WriteToFile(df):\n",
    "    file1 = open(\"Statistical Results.txt\",\"w\") \n",
    "    firstDay = df['Date'].head(1)\n",
    "    firstDay = firstDay[0]\n",
    "    lastDay =df['Date'].iloc[-1]\n",
    "    #lastDay = lastDay[0]\n",
    "\n",
    "\n",
    "    fileText = \"From \" + str(firstDay) + \" until \" + str(lastDay)+ \"\\n\"\n",
    "    fileText += \"there were \" + str(getTotalDays(df)) + \" days which purchases were made\\n\"\n",
    "    fileText += goThru(df)\n",
    "    file1.write(fileText)\n",
    "    file1.close() \n"
   ]
  },
  {
   "cell_type": "code",
   "execution_count": 8,
   "metadata": {},
   "outputs": [],
   "source": [
    "def createSeabornGraph():\n",
    "    fig, ax = plt.subplots(figsize = (12,6))    \n",
    "    fig = sns.barplot(x = 'Date', y = 'Total', data = df)\n",
    "    ax.set_ylabel('Total Spent')\n",
    "    ax.set_xlabel('Date')\n",
    "    ax.set_xticklabels(ax.get_xticklabels(), rotation=75)\n",
    "\n",
    "    pic = fig.get_figure()\n",
    "    pic.savefig(\"figures/SeabornTotalByDate.png\")"
   ]
  },
  {
   "cell_type": "code",
   "execution_count": 9,
   "metadata": {},
   "outputs": [],
   "source": [
    "def iterateThruByColumn(df):\n",
    "    days = getTotalDays(df)\n",
    "    text = \"In a total of \" + str(days)+ \" days\\n\"\n",
    "    a = list(df)\n",
    "    totals = 0\n",
    "    for totals in a[1:8]:\n",
    "        text += countValuesInColumn(totals, days)\n",
    "        text += '\\n'\n",
    "    return text"
   ]
  },
  {
   "cell_type": "code",
   "execution_count": 10,
   "metadata": {},
   "outputs": [],
   "source": [
    "def graphsWithoutBills(df):\n",
    "    del df['Bills']\n",
    "    plot = df.plot(x='Date', y=['Groceries', 'Transport', 'Take_Out', 'Medical', 'Entertainment', 'Other'], kind=\"bar\", stacked=True)\n",
    "    fig = plot.get_figure()\n",
    "    fig.savefig(\"figures/Without_Total.png\")\n",
    "    del df['Total'] \n",
    "    plot = df.plot(x='Date', y=['Groceries', 'Transport', 'Take_Out', 'Medical', 'Entertainment', 'Other'], kind=\"line\")\n",
    "    fig = plot.get_figure()\n",
    "    fig.savefig(\"figures/WithoutBills_Rent.png\")"
   ]
  },
  {
   "cell_type": "code",
   "execution_count": 11,
   "metadata": {},
   "outputs": [],
   "source": [
    "def writeProbabilityToFile(df):\n",
    "    file1 = open(\"ProbabilityByCategory.txt\",\"w\") \n",
    "    fileText = iterateThruByColumn(df)\n",
    "    file1.write(fileText)\n",
    "    file1.close() "
   ]
  },
  {
   "cell_type": "code",
   "execution_count": 12,
   "metadata": {},
   "outputs": [],
   "source": [
    "import datetime\n",
    "import calendar\n",
    "import random\n"
   ]
  },
  {
   "cell_type": "code",
   "execution_count": 31,
   "metadata": {},
   "outputs": [],
   "source": [
    "#def createMockData():\n",
    " #   dateValues = 'Date'\n",
    " #   total = 'Total'\n",
    " #   entries = 100\n",
    " #   date_rng = pd.date_range(start='1/1/2020', end='1/06/2020', freq='D'\n",
    "#   columnNames = ['Date','Groceries','Bills','Transport','Take_Out','Medical','Entertainment','Other']\n",
    "   # df = pd.DataFrame(columns = [columnNames])\n",
    "  #  for i in range(entries):\n",
    " #       date = [pd.date_range(start='1/1/2020', periods=entries, freq='D')]\n",
    "  #      x = [random.randint(1, 50) for a in columnNames]\n",
    "  #      row = date + x\n",
    "  #      df.loc[i] = row\n",
    " #   df.to_csv('test_data.csv')  \n",
    "    \n",
    "    \n",
    "    "
   ]
  },
  {
   "cell_type": "code",
   "execution_count": 15,
   "metadata": {},
   "outputs": [],
   "source": [
    "#createMockData()"
   ]
  },
  {
   "cell_type": "code",
   "execution_count": 16,
   "metadata": {},
   "outputs": [],
   "source": [
    "def generate_random_time(month):\n",
    "  day = generate_random_day(month)\n",
    "  if random.random() < 0.5:\n",
    "    date = datetime.datetime(2020, month, day,12,00)\n",
    "  else:\n",
    "    date = datetime.datetime(2020, month, day,20,00)\n",
    "  time_offset = numpy.random.normal(loc=0.0, scale=180)\n",
    "  final_date = date + datetime.timedelta(minutes=time_offset)\n",
    "  return final_date.strftime(\"%m/%d/%y %H:%M\")\n",
    "\n",
    "def generate_random_day(month):\n",
    "  day_range = calendar.monthrange(2020,month)[1]\n",
    "  return random.randint(1,day_range)"
   ]
  },
  {
   "cell_type": "code",
   "execution_count": null,
   "metadata": {},
   "outputs": [],
   "source": []
  },
  {
   "cell_type": "code",
   "execution_count": 7,
   "metadata": {},
   "outputs": [
    {
     "ename": "NameError",
     "evalue": "name 'printFigs' is not defined",
     "output_type": "error",
     "traceback": [
      "\u001b[1;31m---------------------------------------------------------------------------\u001b[0m",
      "\u001b[1;31mNameError\u001b[0m                                 Traceback (most recent call last)",
      "\u001b[1;32m<ipython-input-7-9c1addd85945>\u001b[0m in \u001b[0;36m<module>\u001b[1;34m\u001b[0m\n\u001b[0;32m      3\u001b[0m     \u001b[1;32massert\u001b[0m \u001b[0mpd\u001b[0m\u001b[1;33m\u001b[0m\u001b[1;33m\u001b[0m\u001b[0m\n\u001b[0;32m      4\u001b[0m     \u001b[0mdf\u001b[0m \u001b[1;33m=\u001b[0m \u001b[0mpd\u001b[0m\u001b[1;33m.\u001b[0m\u001b[0mread_csv\u001b[0m\u001b[1;33m(\u001b[0m\u001b[1;34m'outputData.csv'\u001b[0m\u001b[1;33m)\u001b[0m\u001b[1;33m\u001b[0m\u001b[1;33m\u001b[0m\u001b[0m\n\u001b[1;32m----> 5\u001b[1;33m     \u001b[0mprintFigs\u001b[0m\u001b[1;33m(\u001b[0m\u001b[0mdf\u001b[0m\u001b[1;33m)\u001b[0m\u001b[1;33m\u001b[0m\u001b[1;33m\u001b[0m\u001b[0m\n\u001b[0m\u001b[0;32m      6\u001b[0m     \u001b[0mWriteToFile\u001b[0m\u001b[1;33m(\u001b[0m\u001b[0mdf\u001b[0m\u001b[1;33m)\u001b[0m\u001b[1;33m\u001b[0m\u001b[1;33m\u001b[0m\u001b[0m\n\u001b[0;32m      7\u001b[0m     \u001b[0mwriteProbabilityToFile\u001b[0m\u001b[1;33m(\u001b[0m\u001b[0mdf\u001b[0m\u001b[1;33m)\u001b[0m\u001b[1;33m\u001b[0m\u001b[1;33m\u001b[0m\u001b[0m\n",
      "\u001b[1;31mNameError\u001b[0m: name 'printFigs' is not defined"
     ]
    }
   ],
   "source": [
    "####BEGIN PROGRAM####\n",
    "if __name__==\"__main__\": \n",
    "    df = pd.read_csv('outputData.csv')\n",
    "    printFigs(df)\n",
    "    WriteToFile(df)\n",
    "    writeProbabilityToFile(df)\n",
    "    graphsWithoutBills(df)\n",
    "    #createSeabornGraph()"
   ]
  },
  {
   "cell_type": "code",
   "execution_count": null,
   "metadata": {
    "scrolled": true
   },
   "outputs": [],
   "source": []
  },
  {
   "cell_type": "code",
   "execution_count": null,
   "metadata": {},
   "outputs": [],
   "source": []
  },
  {
   "cell_type": "code",
   "execution_count": 21,
   "metadata": {},
   "outputs": [],
   "source": []
  },
  {
   "cell_type": "code",
   "execution_count": 35,
   "metadata": {},
   "outputs": [],
   "source": []
  },
  {
   "cell_type": "code",
   "execution_count": null,
   "metadata": {},
   "outputs": [],
   "source": []
  },
  {
   "cell_type": "code",
   "execution_count": null,
   "metadata": {},
   "outputs": [],
   "source": []
  },
  {
   "cell_type": "code",
   "execution_count": null,
   "metadata": {},
   "outputs": [],
   "source": []
  }
 ],
 "metadata": {
  "kernelspec": {
   "display_name": "Python 3",
   "language": "python",
   "name": "python3"
  },
  "language_info": {
   "codemirror_mode": {
    "name": "ipython",
    "version": 3
   },
   "file_extension": ".py",
   "mimetype": "text/x-python",
   "name": "python",
   "nbconvert_exporter": "python",
   "pygments_lexer": "ipython3",
   "version": "3.7.6"
  }
 },
 "nbformat": 4,
 "nbformat_minor": 4
}
